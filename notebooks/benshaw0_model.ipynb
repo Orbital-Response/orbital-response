{
 "cells": [
  {
   "cell_type": "markdown",
   "id": "7ed5ce27-a839-4547-9e4e-38543fa59348",
   "metadata": {},
   "source": [
    "# U-Net Model - Orbital Response"
   ]
  },
  {
   "cell_type": "code",
   "execution_count": 1,
   "id": "7725294f",
   "metadata": {},
   "outputs": [],
   "source": [
    "import os\n",
    "import numpy as np\n",
    "import pandas as pd\n",
    "import matplotlib.pyplot as plt\n",
    "import seaborn as sns\n",
    "import random\n",
    "\n",
    "import torch\n",
    "from torchvision import transforms\n",
    "import torchvision.models as models\n",
    "\n",
    "from torch.utils.data import Dataset\n",
    "from torch.utils.data import DataLoader\n",
    "\n",
    "import torch.nn as nn\n",
    "import torch.nn.functional as F\n",
    "import torch.optim as optim\n",
    "from torchsummary import summary\n",
    "from torch.nn.functional import one_hot\n",
    "\n",
    "from torchmetrics.segmentation import GeneralizedDiceScore\n",
    "\n",
    "from PIL import Image\n",
    "from tqdm import tqdm"
   ]
  },
  {
   "cell_type": "markdown",
   "id": "94bad9b2",
   "metadata": {
    "vscode": {
     "languageId": "plaintext"
    }
   },
   "source": [
    "## Model Initialisation"
   ]
  },
  {
   "cell_type": "markdown",
   "id": "fb9cd663",
   "metadata": {},
   "source": [
    "### The Encoder"
   ]
  },
  {
   "cell_type": "code",
   "execution_count": 2,
   "id": "f212539a",
   "metadata": {},
   "outputs": [
    {
     "name": "stderr",
     "output_type": "stream",
     "text": [
      "/Users/BenedictShaw/.pyenv/versions/3.10.6/envs/orbital_response/lib/python3.10/site-packages/torchvision/models/_utils.py:208: UserWarning: The parameter 'pretrained' is deprecated since 0.13 and may be removed in the future, please use 'weights' instead.\n",
      "  warnings.warn(\n",
      "/Users/BenedictShaw/.pyenv/versions/3.10.6/envs/orbital_response/lib/python3.10/site-packages/torchvision/models/_utils.py:223: UserWarning: Arguments other than a weight enum or `None` for 'weights' are deprecated since 0.13 and may be removed in the future. The current behavior is equivalent to passing `weights=ResNet34_Weights.IMAGENET1K_V1`. You can also use `weights=ResNet34_Weights.DEFAULT` to get the most up-to-date weights.\n",
      "  warnings.warn(msg)\n"
     ]
    }
   ],
   "source": [
    "# Load pre-trained ResNet34 model\n",
    "resnet34 = models.resnet34(pretrained=True)"
   ]
  },
  {
   "cell_type": "code",
   "execution_count": 3,
   "id": "5c32ecb2",
   "metadata": {},
   "outputs": [],
   "source": [
    "resnet34.conv1 = nn.Conv2d(\n",
    "    in_channels=6,   # 6 for pre + post RGB images\n",
    "    out_channels=64,\n",
    "    kernel_size=7,\n",
    "    stride=2,\n",
    "    padding=3,\n",
    "    bias=False\n",
    ")"
   ]
  },
  {
   "cell_type": "code",
   "execution_count": 4,
   "id": "16543ca6",
   "metadata": {},
   "outputs": [
    {
     "data": {
      "text/plain": [
       "ResNet(\n",
       "  (conv1): Conv2d(6, 64, kernel_size=(7, 7), stride=(2, 2), padding=(3, 3), bias=False)\n",
       "  (bn1): BatchNorm2d(64, eps=1e-05, momentum=0.1, affine=True, track_running_stats=True)\n",
       "  (relu): ReLU(inplace=True)\n",
       "  (maxpool): MaxPool2d(kernel_size=3, stride=2, padding=1, dilation=1, ceil_mode=False)\n",
       "  (layer1): Sequential(\n",
       "    (0): BasicBlock(\n",
       "      (conv1): Conv2d(64, 64, kernel_size=(3, 3), stride=(1, 1), padding=(1, 1), bias=False)\n",
       "      (bn1): BatchNorm2d(64, eps=1e-05, momentum=0.1, affine=True, track_running_stats=True)\n",
       "      (relu): ReLU(inplace=True)\n",
       "      (conv2): Conv2d(64, 64, kernel_size=(3, 3), stride=(1, 1), padding=(1, 1), bias=False)\n",
       "      (bn2): BatchNorm2d(64, eps=1e-05, momentum=0.1, affine=True, track_running_stats=True)\n",
       "    )\n",
       "    (1): BasicBlock(\n",
       "      (conv1): Conv2d(64, 64, kernel_size=(3, 3), stride=(1, 1), padding=(1, 1), bias=False)\n",
       "      (bn1): BatchNorm2d(64, eps=1e-05, momentum=0.1, affine=True, track_running_stats=True)\n",
       "      (relu): ReLU(inplace=True)\n",
       "      (conv2): Conv2d(64, 64, kernel_size=(3, 3), stride=(1, 1), padding=(1, 1), bias=False)\n",
       "      (bn2): BatchNorm2d(64, eps=1e-05, momentum=0.1, affine=True, track_running_stats=True)\n",
       "    )\n",
       "    (2): BasicBlock(\n",
       "      (conv1): Conv2d(64, 64, kernel_size=(3, 3), stride=(1, 1), padding=(1, 1), bias=False)\n",
       "      (bn1): BatchNorm2d(64, eps=1e-05, momentum=0.1, affine=True, track_running_stats=True)\n",
       "      (relu): ReLU(inplace=True)\n",
       "      (conv2): Conv2d(64, 64, kernel_size=(3, 3), stride=(1, 1), padding=(1, 1), bias=False)\n",
       "      (bn2): BatchNorm2d(64, eps=1e-05, momentum=0.1, affine=True, track_running_stats=True)\n",
       "    )\n",
       "  )\n",
       "  (layer2): Sequential(\n",
       "    (0): BasicBlock(\n",
       "      (conv1): Conv2d(64, 128, kernel_size=(3, 3), stride=(2, 2), padding=(1, 1), bias=False)\n",
       "      (bn1): BatchNorm2d(128, eps=1e-05, momentum=0.1, affine=True, track_running_stats=True)\n",
       "      (relu): ReLU(inplace=True)\n",
       "      (conv2): Conv2d(128, 128, kernel_size=(3, 3), stride=(1, 1), padding=(1, 1), bias=False)\n",
       "      (bn2): BatchNorm2d(128, eps=1e-05, momentum=0.1, affine=True, track_running_stats=True)\n",
       "      (downsample): Sequential(\n",
       "        (0): Conv2d(64, 128, kernel_size=(1, 1), stride=(2, 2), bias=False)\n",
       "        (1): BatchNorm2d(128, eps=1e-05, momentum=0.1, affine=True, track_running_stats=True)\n",
       "      )\n",
       "    )\n",
       "    (1): BasicBlock(\n",
       "      (conv1): Conv2d(128, 128, kernel_size=(3, 3), stride=(1, 1), padding=(1, 1), bias=False)\n",
       "      (bn1): BatchNorm2d(128, eps=1e-05, momentum=0.1, affine=True, track_running_stats=True)\n",
       "      (relu): ReLU(inplace=True)\n",
       "      (conv2): Conv2d(128, 128, kernel_size=(3, 3), stride=(1, 1), padding=(1, 1), bias=False)\n",
       "      (bn2): BatchNorm2d(128, eps=1e-05, momentum=0.1, affine=True, track_running_stats=True)\n",
       "    )\n",
       "    (2): BasicBlock(\n",
       "      (conv1): Conv2d(128, 128, kernel_size=(3, 3), stride=(1, 1), padding=(1, 1), bias=False)\n",
       "      (bn1): BatchNorm2d(128, eps=1e-05, momentum=0.1, affine=True, track_running_stats=True)\n",
       "      (relu): ReLU(inplace=True)\n",
       "      (conv2): Conv2d(128, 128, kernel_size=(3, 3), stride=(1, 1), padding=(1, 1), bias=False)\n",
       "      (bn2): BatchNorm2d(128, eps=1e-05, momentum=0.1, affine=True, track_running_stats=True)\n",
       "    )\n",
       "    (3): BasicBlock(\n",
       "      (conv1): Conv2d(128, 128, kernel_size=(3, 3), stride=(1, 1), padding=(1, 1), bias=False)\n",
       "      (bn1): BatchNorm2d(128, eps=1e-05, momentum=0.1, affine=True, track_running_stats=True)\n",
       "      (relu): ReLU(inplace=True)\n",
       "      (conv2): Conv2d(128, 128, kernel_size=(3, 3), stride=(1, 1), padding=(1, 1), bias=False)\n",
       "      (bn2): BatchNorm2d(128, eps=1e-05, momentum=0.1, affine=True, track_running_stats=True)\n",
       "    )\n",
       "  )\n",
       "  (layer3): Sequential(\n",
       "    (0): BasicBlock(\n",
       "      (conv1): Conv2d(128, 256, kernel_size=(3, 3), stride=(2, 2), padding=(1, 1), bias=False)\n",
       "      (bn1): BatchNorm2d(256, eps=1e-05, momentum=0.1, affine=True, track_running_stats=True)\n",
       "      (relu): ReLU(inplace=True)\n",
       "      (conv2): Conv2d(256, 256, kernel_size=(3, 3), stride=(1, 1), padding=(1, 1), bias=False)\n",
       "      (bn2): BatchNorm2d(256, eps=1e-05, momentum=0.1, affine=True, track_running_stats=True)\n",
       "      (downsample): Sequential(\n",
       "        (0): Conv2d(128, 256, kernel_size=(1, 1), stride=(2, 2), bias=False)\n",
       "        (1): BatchNorm2d(256, eps=1e-05, momentum=0.1, affine=True, track_running_stats=True)\n",
       "      )\n",
       "    )\n",
       "    (1): BasicBlock(\n",
       "      (conv1): Conv2d(256, 256, kernel_size=(3, 3), stride=(1, 1), padding=(1, 1), bias=False)\n",
       "      (bn1): BatchNorm2d(256, eps=1e-05, momentum=0.1, affine=True, track_running_stats=True)\n",
       "      (relu): ReLU(inplace=True)\n",
       "      (conv2): Conv2d(256, 256, kernel_size=(3, 3), stride=(1, 1), padding=(1, 1), bias=False)\n",
       "      (bn2): BatchNorm2d(256, eps=1e-05, momentum=0.1, affine=True, track_running_stats=True)\n",
       "    )\n",
       "    (2): BasicBlock(\n",
       "      (conv1): Conv2d(256, 256, kernel_size=(3, 3), stride=(1, 1), padding=(1, 1), bias=False)\n",
       "      (bn1): BatchNorm2d(256, eps=1e-05, momentum=0.1, affine=True, track_running_stats=True)\n",
       "      (relu): ReLU(inplace=True)\n",
       "      (conv2): Conv2d(256, 256, kernel_size=(3, 3), stride=(1, 1), padding=(1, 1), bias=False)\n",
       "      (bn2): BatchNorm2d(256, eps=1e-05, momentum=0.1, affine=True, track_running_stats=True)\n",
       "    )\n",
       "    (3): BasicBlock(\n",
       "      (conv1): Conv2d(256, 256, kernel_size=(3, 3), stride=(1, 1), padding=(1, 1), bias=False)\n",
       "      (bn1): BatchNorm2d(256, eps=1e-05, momentum=0.1, affine=True, track_running_stats=True)\n",
       "      (relu): ReLU(inplace=True)\n",
       "      (conv2): Conv2d(256, 256, kernel_size=(3, 3), stride=(1, 1), padding=(1, 1), bias=False)\n",
       "      (bn2): BatchNorm2d(256, eps=1e-05, momentum=0.1, affine=True, track_running_stats=True)\n",
       "    )\n",
       "    (4): BasicBlock(\n",
       "      (conv1): Conv2d(256, 256, kernel_size=(3, 3), stride=(1, 1), padding=(1, 1), bias=False)\n",
       "      (bn1): BatchNorm2d(256, eps=1e-05, momentum=0.1, affine=True, track_running_stats=True)\n",
       "      (relu): ReLU(inplace=True)\n",
       "      (conv2): Conv2d(256, 256, kernel_size=(3, 3), stride=(1, 1), padding=(1, 1), bias=False)\n",
       "      (bn2): BatchNorm2d(256, eps=1e-05, momentum=0.1, affine=True, track_running_stats=True)\n",
       "    )\n",
       "    (5): BasicBlock(\n",
       "      (conv1): Conv2d(256, 256, kernel_size=(3, 3), stride=(1, 1), padding=(1, 1), bias=False)\n",
       "      (bn1): BatchNorm2d(256, eps=1e-05, momentum=0.1, affine=True, track_running_stats=True)\n",
       "      (relu): ReLU(inplace=True)\n",
       "      (conv2): Conv2d(256, 256, kernel_size=(3, 3), stride=(1, 1), padding=(1, 1), bias=False)\n",
       "      (bn2): BatchNorm2d(256, eps=1e-05, momentum=0.1, affine=True, track_running_stats=True)\n",
       "    )\n",
       "  )\n",
       "  (layer4): Sequential(\n",
       "    (0): BasicBlock(\n",
       "      (conv1): Conv2d(256, 512, kernel_size=(3, 3), stride=(2, 2), padding=(1, 1), bias=False)\n",
       "      (bn1): BatchNorm2d(512, eps=1e-05, momentum=0.1, affine=True, track_running_stats=True)\n",
       "      (relu): ReLU(inplace=True)\n",
       "      (conv2): Conv2d(512, 512, kernel_size=(3, 3), stride=(1, 1), padding=(1, 1), bias=False)\n",
       "      (bn2): BatchNorm2d(512, eps=1e-05, momentum=0.1, affine=True, track_running_stats=True)\n",
       "      (downsample): Sequential(\n",
       "        (0): Conv2d(256, 512, kernel_size=(1, 1), stride=(2, 2), bias=False)\n",
       "        (1): BatchNorm2d(512, eps=1e-05, momentum=0.1, affine=True, track_running_stats=True)\n",
       "      )\n",
       "    )\n",
       "    (1): BasicBlock(\n",
       "      (conv1): Conv2d(512, 512, kernel_size=(3, 3), stride=(1, 1), padding=(1, 1), bias=False)\n",
       "      (bn1): BatchNorm2d(512, eps=1e-05, momentum=0.1, affine=True, track_running_stats=True)\n",
       "      (relu): ReLU(inplace=True)\n",
       "      (conv2): Conv2d(512, 512, kernel_size=(3, 3), stride=(1, 1), padding=(1, 1), bias=False)\n",
       "      (bn2): BatchNorm2d(512, eps=1e-05, momentum=0.1, affine=True, track_running_stats=True)\n",
       "    )\n",
       "    (2): BasicBlock(\n",
       "      (conv1): Conv2d(512, 512, kernel_size=(3, 3), stride=(1, 1), padding=(1, 1), bias=False)\n",
       "      (bn1): BatchNorm2d(512, eps=1e-05, momentum=0.1, affine=True, track_running_stats=True)\n",
       "      (relu): ReLU(inplace=True)\n",
       "      (conv2): Conv2d(512, 512, kernel_size=(3, 3), stride=(1, 1), padding=(1, 1), bias=False)\n",
       "      (bn2): BatchNorm2d(512, eps=1e-05, momentum=0.1, affine=True, track_running_stats=True)\n",
       "    )\n",
       "  )\n",
       "  (avgpool): AdaptiveAvgPool2d(output_size=(1, 1))\n",
       "  (fc): Linear(in_features=512, out_features=1000, bias=True)\n",
       ")"
      ]
     },
     "execution_count": 4,
     "metadata": {},
     "output_type": "execute_result"
    }
   ],
   "source": [
    "resnet34"
   ]
  },
  {
   "cell_type": "code",
   "execution_count": 5,
   "id": "4f04a75d",
   "metadata": {},
   "outputs": [],
   "source": [
    "# Freezing all parameters in the pretrained model, other than those in the first layer (that have been trained)\n",
    "for name, param in resnet34.named_parameters():\n",
    "    if name.startswith('conv1'):\n",
    "        param.requires_grad = True\n",
    "    else:\n",
    "        param.requires_grad = False"
   ]
  },
  {
   "cell_type": "markdown",
   "id": "588ea226",
   "metadata": {},
   "source": [
    "### The Decoder"
   ]
  },
  {
   "cell_type": "code",
   "execution_count": 6,
   "id": "555b273d",
   "metadata": {},
   "outputs": [],
   "source": [
    "# A function defining the convolution block\n",
    "def conv_block(in_channels, out_channels):\n",
    "    return nn.Sequential(\n",
    "        nn.Conv2d(in_channels, out_channels, kernel_size=3, padding=1),\n",
    "        nn.ReLU(inplace=True),\n",
    "        nn.BatchNorm2d(out_channels),\n",
    "        nn.Conv2d(out_channels, out_channels, kernel_size=3, padding=1),\n",
    "        nn.ReLU(inplace=True),\n",
    "        nn.BatchNorm2d(out_channels)\n",
    "    )"
   ]
  },
  {
   "cell_type": "markdown",
   "id": "4cb025aa",
   "metadata": {},
   "source": [
    "### Combining the Decoder to Form the U-Net\n",
    "\n",
    "The **forward()** function defines the data flow through your model — it's how the model transforms input data into an output using its layers."
   ]
  },
  {
   "cell_type": "code",
   "execution_count": 7,
   "id": "6c0e520e",
   "metadata": {},
   "outputs": [],
   "source": [
    "# Defining the U-Net model class\n",
    "class UNetModel(nn.Module):\n",
    "    def __init__(self, n_classes=5):\n",
    "        super().__init__()\n",
    "\n",
    "        # Encoder (modified for 6-channel input)\n",
    "        self.encoder = resnet34\n",
    "\n",
    "        # Decoder blocks with transpose convolutions\n",
    "        self.up5 = nn.ConvTranspose2d(512, 512, kernel_size=2, stride=2)\n",
    "        self.dec5 = conv_block(512 + 256, 256)\n",
    "\n",
    "        self.up4 = nn.ConvTranspose2d(256, 256, kernel_size=2, stride=2)\n",
    "        self.dec4 = conv_block(256 + 128, 128)\n",
    "\n",
    "        self.up3 = nn.ConvTranspose2d(128, 128, kernel_size=2, stride=2)\n",
    "        self.dec3 = conv_block(128 + 64, 64)\n",
    "\n",
    "        self.up2 = nn.ConvTranspose2d(64, 64, kernel_size=2, stride=2)\n",
    "        self.dec2 = conv_block(64 + 64, 64)\n",
    "\n",
    "        self.final_conv = nn.Conv2d(64, n_classes, kernel_size=1)\n",
    "\n",
    "    def forward(self, x):\n",
    "        e1 = self.encoder.relu(self.encoder.bn1(self.encoder.conv1(x)))\n",
    "        e2 = self.encoder.layer1(self.encoder.maxpool(e1))\n",
    "        e3 = self.encoder.layer2(e2)\n",
    "        e4 = self.encoder.layer3(e3)\n",
    "        e5 = self.encoder.layer4(e4)\n",
    "\n",
    "        d5 = self.dec5(torch.cat([self.up5(e5), e4], dim=1))\n",
    "        d4 = self.dec4(torch.cat([self.up4(d5), e3], dim=1))\n",
    "        d3 = self.dec3(torch.cat([self.up3(d4), e2], dim=1))\n",
    "        d2 = self.dec2(torch.cat([self.up2(d3), e1], dim=1))\n",
    "\n",
    "        out = self.final_conv(d2)\n",
    "        return F.interpolate(out, size=(224, 224), mode='bilinear', align_corners=False)\n"
   ]
  },
  {
   "cell_type": "code",
   "execution_count": 8,
   "id": "66bfea1f",
   "metadata": {},
   "outputs": [
    {
     "name": "stdout",
     "output_type": "stream",
     "text": [
      "----------------------------------------------------------------\n",
      "        Layer (type)               Output Shape         Param #\n",
      "================================================================\n",
      "            Conv2d-1         [-1, 64, 112, 112]          18,816\n",
      "       BatchNorm2d-2         [-1, 64, 112, 112]             128\n",
      "              ReLU-3         [-1, 64, 112, 112]               0\n",
      "         MaxPool2d-4           [-1, 64, 56, 56]               0\n",
      "            Conv2d-5           [-1, 64, 56, 56]          36,864\n",
      "       BatchNorm2d-6           [-1, 64, 56, 56]             128\n",
      "              ReLU-7           [-1, 64, 56, 56]               0\n",
      "            Conv2d-8           [-1, 64, 56, 56]          36,864\n",
      "       BatchNorm2d-9           [-1, 64, 56, 56]             128\n",
      "             ReLU-10           [-1, 64, 56, 56]               0\n",
      "       BasicBlock-11           [-1, 64, 56, 56]               0\n",
      "           Conv2d-12           [-1, 64, 56, 56]          36,864\n",
      "      BatchNorm2d-13           [-1, 64, 56, 56]             128\n",
      "             ReLU-14           [-1, 64, 56, 56]               0\n",
      "           Conv2d-15           [-1, 64, 56, 56]          36,864\n",
      "      BatchNorm2d-16           [-1, 64, 56, 56]             128\n",
      "             ReLU-17           [-1, 64, 56, 56]               0\n",
      "       BasicBlock-18           [-1, 64, 56, 56]               0\n",
      "           Conv2d-19           [-1, 64, 56, 56]          36,864\n",
      "      BatchNorm2d-20           [-1, 64, 56, 56]             128\n",
      "             ReLU-21           [-1, 64, 56, 56]               0\n",
      "           Conv2d-22           [-1, 64, 56, 56]          36,864\n",
      "      BatchNorm2d-23           [-1, 64, 56, 56]             128\n",
      "             ReLU-24           [-1, 64, 56, 56]               0\n",
      "       BasicBlock-25           [-1, 64, 56, 56]               0\n",
      "           Conv2d-26          [-1, 128, 28, 28]          73,728\n",
      "      BatchNorm2d-27          [-1, 128, 28, 28]             256\n",
      "             ReLU-28          [-1, 128, 28, 28]               0\n",
      "           Conv2d-29          [-1, 128, 28, 28]         147,456\n",
      "      BatchNorm2d-30          [-1, 128, 28, 28]             256\n",
      "           Conv2d-31          [-1, 128, 28, 28]           8,192\n",
      "      BatchNorm2d-32          [-1, 128, 28, 28]             256\n",
      "             ReLU-33          [-1, 128, 28, 28]               0\n",
      "       BasicBlock-34          [-1, 128, 28, 28]               0\n",
      "           Conv2d-35          [-1, 128, 28, 28]         147,456\n",
      "      BatchNorm2d-36          [-1, 128, 28, 28]             256\n",
      "             ReLU-37          [-1, 128, 28, 28]               0\n",
      "           Conv2d-38          [-1, 128, 28, 28]         147,456\n",
      "      BatchNorm2d-39          [-1, 128, 28, 28]             256\n",
      "             ReLU-40          [-1, 128, 28, 28]               0\n",
      "       BasicBlock-41          [-1, 128, 28, 28]               0\n",
      "           Conv2d-42          [-1, 128, 28, 28]         147,456\n",
      "      BatchNorm2d-43          [-1, 128, 28, 28]             256\n",
      "             ReLU-44          [-1, 128, 28, 28]               0\n",
      "           Conv2d-45          [-1, 128, 28, 28]         147,456\n",
      "      BatchNorm2d-46          [-1, 128, 28, 28]             256\n",
      "             ReLU-47          [-1, 128, 28, 28]               0\n",
      "       BasicBlock-48          [-1, 128, 28, 28]               0\n",
      "           Conv2d-49          [-1, 128, 28, 28]         147,456\n",
      "      BatchNorm2d-50          [-1, 128, 28, 28]             256\n",
      "             ReLU-51          [-1, 128, 28, 28]               0\n",
      "           Conv2d-52          [-1, 128, 28, 28]         147,456\n",
      "      BatchNorm2d-53          [-1, 128, 28, 28]             256\n",
      "             ReLU-54          [-1, 128, 28, 28]               0\n",
      "       BasicBlock-55          [-1, 128, 28, 28]               0\n",
      "           Conv2d-56          [-1, 256, 14, 14]         294,912\n",
      "      BatchNorm2d-57          [-1, 256, 14, 14]             512\n",
      "             ReLU-58          [-1, 256, 14, 14]               0\n",
      "           Conv2d-59          [-1, 256, 14, 14]         589,824\n",
      "      BatchNorm2d-60          [-1, 256, 14, 14]             512\n",
      "           Conv2d-61          [-1, 256, 14, 14]          32,768\n",
      "      BatchNorm2d-62          [-1, 256, 14, 14]             512\n",
      "             ReLU-63          [-1, 256, 14, 14]               0\n",
      "       BasicBlock-64          [-1, 256, 14, 14]               0\n",
      "           Conv2d-65          [-1, 256, 14, 14]         589,824\n",
      "      BatchNorm2d-66          [-1, 256, 14, 14]             512\n",
      "             ReLU-67          [-1, 256, 14, 14]               0\n",
      "           Conv2d-68          [-1, 256, 14, 14]         589,824\n",
      "      BatchNorm2d-69          [-1, 256, 14, 14]             512\n",
      "             ReLU-70          [-1, 256, 14, 14]               0\n",
      "       BasicBlock-71          [-1, 256, 14, 14]               0\n",
      "           Conv2d-72          [-1, 256, 14, 14]         589,824\n",
      "      BatchNorm2d-73          [-1, 256, 14, 14]             512\n",
      "             ReLU-74          [-1, 256, 14, 14]               0\n",
      "           Conv2d-75          [-1, 256, 14, 14]         589,824\n",
      "      BatchNorm2d-76          [-1, 256, 14, 14]             512\n",
      "             ReLU-77          [-1, 256, 14, 14]               0\n",
      "       BasicBlock-78          [-1, 256, 14, 14]               0\n",
      "           Conv2d-79          [-1, 256, 14, 14]         589,824\n",
      "      BatchNorm2d-80          [-1, 256, 14, 14]             512\n",
      "             ReLU-81          [-1, 256, 14, 14]               0\n",
      "           Conv2d-82          [-1, 256, 14, 14]         589,824\n",
      "      BatchNorm2d-83          [-1, 256, 14, 14]             512\n",
      "             ReLU-84          [-1, 256, 14, 14]               0\n",
      "       BasicBlock-85          [-1, 256, 14, 14]               0\n",
      "           Conv2d-86          [-1, 256, 14, 14]         589,824\n",
      "      BatchNorm2d-87          [-1, 256, 14, 14]             512\n",
      "             ReLU-88          [-1, 256, 14, 14]               0\n",
      "           Conv2d-89          [-1, 256, 14, 14]         589,824\n",
      "      BatchNorm2d-90          [-1, 256, 14, 14]             512\n",
      "             ReLU-91          [-1, 256, 14, 14]               0\n",
      "       BasicBlock-92          [-1, 256, 14, 14]               0\n",
      "           Conv2d-93          [-1, 256, 14, 14]         589,824\n",
      "      BatchNorm2d-94          [-1, 256, 14, 14]             512\n",
      "             ReLU-95          [-1, 256, 14, 14]               0\n",
      "           Conv2d-96          [-1, 256, 14, 14]         589,824\n",
      "      BatchNorm2d-97          [-1, 256, 14, 14]             512\n",
      "             ReLU-98          [-1, 256, 14, 14]               0\n",
      "       BasicBlock-99          [-1, 256, 14, 14]               0\n",
      "          Conv2d-100            [-1, 512, 7, 7]       1,179,648\n",
      "     BatchNorm2d-101            [-1, 512, 7, 7]           1,024\n",
      "            ReLU-102            [-1, 512, 7, 7]               0\n",
      "          Conv2d-103            [-1, 512, 7, 7]       2,359,296\n",
      "     BatchNorm2d-104            [-1, 512, 7, 7]           1,024\n",
      "          Conv2d-105            [-1, 512, 7, 7]         131,072\n",
      "     BatchNorm2d-106            [-1, 512, 7, 7]           1,024\n",
      "            ReLU-107            [-1, 512, 7, 7]               0\n",
      "      BasicBlock-108            [-1, 512, 7, 7]               0\n",
      "          Conv2d-109            [-1, 512, 7, 7]       2,359,296\n",
      "     BatchNorm2d-110            [-1, 512, 7, 7]           1,024\n",
      "            ReLU-111            [-1, 512, 7, 7]               0\n",
      "          Conv2d-112            [-1, 512, 7, 7]       2,359,296\n",
      "     BatchNorm2d-113            [-1, 512, 7, 7]           1,024\n",
      "            ReLU-114            [-1, 512, 7, 7]               0\n",
      "      BasicBlock-115            [-1, 512, 7, 7]               0\n",
      "          Conv2d-116            [-1, 512, 7, 7]       2,359,296\n",
      "     BatchNorm2d-117            [-1, 512, 7, 7]           1,024\n",
      "            ReLU-118            [-1, 512, 7, 7]               0\n",
      "          Conv2d-119            [-1, 512, 7, 7]       2,359,296\n",
      "     BatchNorm2d-120            [-1, 512, 7, 7]           1,024\n",
      "            ReLU-121            [-1, 512, 7, 7]               0\n",
      "      BasicBlock-122            [-1, 512, 7, 7]               0\n",
      " ConvTranspose2d-123          [-1, 512, 14, 14]       1,049,088\n",
      "          Conv2d-124          [-1, 256, 14, 14]       1,769,728\n",
      "            ReLU-125          [-1, 256, 14, 14]               0\n",
      "     BatchNorm2d-126          [-1, 256, 14, 14]             512\n",
      "          Conv2d-127          [-1, 256, 14, 14]         590,080\n",
      "            ReLU-128          [-1, 256, 14, 14]               0\n",
      "     BatchNorm2d-129          [-1, 256, 14, 14]             512\n",
      " ConvTranspose2d-130          [-1, 256, 28, 28]         262,400\n",
      "          Conv2d-131          [-1, 128, 28, 28]         442,496\n",
      "            ReLU-132          [-1, 128, 28, 28]               0\n",
      "     BatchNorm2d-133          [-1, 128, 28, 28]             256\n",
      "          Conv2d-134          [-1, 128, 28, 28]         147,584\n",
      "            ReLU-135          [-1, 128, 28, 28]               0\n",
      "     BatchNorm2d-136          [-1, 128, 28, 28]             256\n",
      " ConvTranspose2d-137          [-1, 128, 56, 56]          65,664\n",
      "          Conv2d-138           [-1, 64, 56, 56]         110,656\n",
      "            ReLU-139           [-1, 64, 56, 56]               0\n",
      "     BatchNorm2d-140           [-1, 64, 56, 56]             128\n",
      "          Conv2d-141           [-1, 64, 56, 56]          36,928\n",
      "            ReLU-142           [-1, 64, 56, 56]               0\n",
      "     BatchNorm2d-143           [-1, 64, 56, 56]             128\n",
      " ConvTranspose2d-144         [-1, 64, 112, 112]          16,448\n",
      "          Conv2d-145         [-1, 64, 112, 112]          73,792\n",
      "            ReLU-146         [-1, 64, 112, 112]               0\n",
      "     BatchNorm2d-147         [-1, 64, 112, 112]             128\n",
      "          Conv2d-148         [-1, 64, 112, 112]          36,928\n",
      "            ReLU-149         [-1, 64, 112, 112]               0\n",
      "     BatchNorm2d-150         [-1, 64, 112, 112]             128\n",
      "          Conv2d-151          [-1, 5, 112, 112]             325\n",
      "================================================================\n",
      "Total params: 25,898,245\n",
      "Trainable params: 4,622,981\n",
      "Non-trainable params: 21,275,264\n",
      "----------------------------------------------------------------\n",
      "Input size (MB): 1.15\n",
      "Forward/backward pass size (MB): 161.07\n",
      "Params size (MB): 98.79\n",
      "Estimated Total Size (MB): 261.01\n",
      "----------------------------------------------------------------\n"
     ]
    }
   ],
   "source": [
    "model = UNetModel(n_classes=5)\n",
    "summary(model, input_size=(6, 224, 224))"
   ]
  },
  {
   "cell_type": "markdown",
   "id": "cf238d2f",
   "metadata": {
    "vscode": {
     "languageId": "plaintext"
    }
   },
   "source": [
    "## Dataset and DataLoader\n",
    "\n",
    "*Concatenate “pre” and “post” 3-channel disaster images from each pair into a single tensor with 6 channels and use it as an input to the U-Net model. The 'target' is the single channel post-disaster mask.*\n",
    "\n",
    "**NOTE: designed to retrieve images from local file**\n",
    "\n",
    "Here, we are using the Pytorch Dataset class to control the loading of image data (features + labels) and the transformations that are applied (concatonation)"
   ]
  },
  {
   "cell_type": "code",
   "execution_count": 114,
   "id": "7c4adb02",
   "metadata": {},
   "outputs": [
    {
     "name": "stdout",
     "output_type": "stream",
     "text": [
      "{0: 1032824, 1: 2352, 2: 4079, 3: 9321}\n"
     ]
    }
   ],
   "source": [
    "#Testing image to tensor\n",
    "img_path = \"../data/processed/masks/hurricane-florence_00000048_post_disaster_mask.png\"\n",
    "img = Image.open(img_path)\n",
    "mask_np = np.array(img)\n",
    "mask_tensor = torch.from_numpy(mask_np).long()\n",
    "unique_vals, counts = torch.unique(mask_tensor, return_counts=True)\n",
    "print(dict(zip(unique_vals.tolist(), counts.tolist())))"
   ]
  },
  {
   "cell_type": "code",
   "execution_count": 10,
   "id": "5cacc3c4",
   "metadata": {},
   "outputs": [
    {
     "data": {
      "text/plain": [
       "214"
      ]
     },
     "execution_count": 10,
     "metadata": {},
     "output_type": "execute_result"
    }
   ],
   "source": [
    "img_dir_test = \"../data/processed/split/train/images\"\n",
    "len(os.listdir(img_dir_test))\n",
    "mask_dir_test = \"../data/processed/split/train/masks\"\n",
    "len(os.listdir(mask_dir_test))"
   ]
  },
  {
   "cell_type": "code",
   "execution_count": null,
   "id": "0c2bbb59",
   "metadata": {},
   "outputs": [],
   "source": [
    "# Specifying a class for mask transformation (png to tensor)\n",
    "class MaskTransform:\n",
    "    def __init__(self, size=(224, 224)):\n",
    "        self.size = size\n",
    "\n",
    "    def __call__(self, mask):\n",
    "        # Resize using NEAREST interpolation to preserve class values\n",
    "        mask = F.resize(mask, self.size, interpolation=transforms.InterpolationMode.NEAREST)\n",
    "        # Convert to LongTensor of class indices\n",
    "        return torch.as_tensor(np.array(mask), dtype=torch.long)"
   ]
  },
  {
   "cell_type": "code",
   "execution_count": null,
   "id": "7872f97e",
   "metadata": {},
   "outputs": [],
   "source": [
    "mask_transform = MaskTransform(size=(224, 224))\n",
    "\n",
    "img_transform = transforms.Compose([\n",
    "    transforms.Resize((224, 224)),\n",
    "    transforms.ToTensor()\n",
    "])"
   ]
  },
  {
   "cell_type": "code",
   "execution_count": null,
   "id": "df6eefd2",
   "metadata": {},
   "outputs": [],
   "source": [
    "class PrimaryDataset(Dataset):\n",
    "    def __init__(self, root_dir, transform=None, mask_transform=None):\n",
    "        self.image_dir = os.path.join(root_dir, \"images\")\n",
    "        self.mask_dir = os.path.join(root_dir, \"masks\")\n",
    "        self.transform = transform\n",
    "        self.mask_transform = mask_transform\n",
    "\n",
    "        # Find all base mask IDs (e.g. \"hurricane-florence_00000000\")\n",
    "        all_mask_files = os.listdir(self.mask_dir)\n",
    "        self.ids = sorted(list(set(\n",
    "            f.replace(\"_pre_disaster_mask.png\", \"\").replace(\"_post_disaster_mask.png\", \"\")\n",
    "            for f in all_mask_files\n",
    "            if f.endswith(\".png\")\n",
    "        )))\n",
    "\n",
    "    def __len__(self):\n",
    "        return len(self.ids)\n",
    "\n",
    "    def __getitem__(self, idx):\n",
    "        image_id = self.ids[idx]\n",
    "\n",
    "        # File paths\n",
    "        pre_path = os.path.join(self.image_dir, f\"{image_id}_pre_disaster.png\")\n",
    "        post_path = os.path.join(self.image_dir, f\"{image_id}_post_disaster.png\")\n",
    "        post_mask_path = os.path.join(self.mask_dir, f\"{image_id}_post_disaster_mask.png\")\n",
    "\n",
    "        # Open images\n",
    "        pre_img = Image.open(pre_path)\n",
    "        post_img = Image.open(post_path)\n",
    "        post_mask = Image.open(post_mask_path)\n",
    "\n",
    "        # Apply image transforms\n",
    "        if self.transform:\n",
    "            pre_img = self.transform(pre_img)\n",
    "            post_img = self.transform(post_img)\n",
    "\n",
    "        image = torch.cat([pre_img, post_img], dim=0)  # shape: [6, H, W]\n",
    "\n",
    "        # Apply mask transforms\n",
    "        if self.mask_transform:\n",
    "            post_mask = self.mask_transform(post_mask)\n",
    "\n",
    "        return image, post_mask"
   ]
  },
  {
   "cell_type": "markdown",
   "id": "4bcec9d3",
   "metadata": {},
   "source": [
    "## Model Training "
   ]
  },
  {
   "cell_type": "code",
   "execution_count": 13,
   "id": "d4ae8526",
   "metadata": {},
   "outputs": [],
   "source": [
    "# Empty the torch cache, which may slow the training process\n",
    "torch.cuda.empty_cache()\n",
    "\n",
    "device = torch.device(\"cuda\" if torch.cuda.is_available() else \"cpu\")"
   ]
  },
  {
   "cell_type": "markdown",
   "id": "32fb575a",
   "metadata": {},
   "source": [
    "### Loading in the train, val and test data."
   ]
  },
  {
   "cell_type": "code",
   "execution_count": 14,
   "id": "720c37b3",
   "metadata": {},
   "outputs": [],
   "source": [
    "train_dataset = PrimaryDataset(\"../data/processed/split/train/\", transform=img_transform, mask_transform=mask_transform)\n",
    "val_dataset = PrimaryDataset(\"../data/processed/split/val/\", transform=img_transform, mask_transform=mask_transform)\n",
    "test_dataset = PrimaryDataset(\"../data/processed/split/test/\", transform=img_transform, mask_transform=mask_transform)"
   ]
  },
  {
   "cell_type": "code",
   "execution_count": 15,
   "id": "fcefe43b",
   "metadata": {},
   "outputs": [],
   "source": [
    "LEARNING_RATE = 3e-4\n",
    "BATCH_SIZE = 10\n",
    "\n",
    "train_dataloader = DataLoader(dataset=train_dataset,\n",
    "                              pin_memory=False,\n",
    "                              batch_size=BATCH_SIZE,\n",
    "                              shuffle=True)\n",
    "\n",
    "val_dataloader = DataLoader(dataset=val_dataset,\n",
    "                            pin_memory=False,\n",
    "                            batch_size=BATCH_SIZE,\n",
    "                            shuffle=True)\n",
    "\n",
    "test_dataloader = DataLoader(dataset=test_dataset,\n",
    "                            pin_memory=False,\n",
    "                            batch_size=BATCH_SIZE,\n",
    "                            shuffle=True)"
   ]
  },
  {
   "cell_type": "markdown",
   "id": "c5f18076",
   "metadata": {},
   "source": [
    "### Model initialisation, and defining model parameters."
   ]
  },
  {
   "cell_type": "code",
   "execution_count": 16,
   "id": "1eea2186",
   "metadata": {},
   "outputs": [],
   "source": [
    "# Initialising the model\n",
    "model = UNetModel(n_classes=5).to(device)\n",
    "\n",
    "optimizer = optim.Adam(model.parameters(),lr=1e-4)\n",
    "criterion = nn.CrossEntropyLoss()"
   ]
  },
  {
   "cell_type": "code",
   "execution_count": 17,
   "id": "33b9168b",
   "metadata": {},
   "outputs": [],
   "source": [
    "# Instantiating Generalised Dice Score function (inputs --> preds, target)\n",
    "gds = GeneralizedDiceScore(num_classes=5)"
   ]
  },
  {
   "cell_type": "code",
   "execution_count": 18,
   "id": "aecb4b63",
   "metadata": {},
   "outputs": [],
   "source": [
    "def compute_loss_and_dice(y_pred, mask, criterion, gds):\n",
    "    if mask.dim() == 4:\n",
    "        mask = torch.argmax(mask, dim=1)  # [B, H, W]\n",
    "\n",
    "    loss = criterion(y_pred, mask)\n",
    "\n",
    "    y_prob = F.softmax(y_pred, dim=1)\n",
    "    mask_onehot = one_hot(mask, num_classes=y_pred.shape[1]).permute(0, 3, 1, 2).float()\n",
    "\n",
    "    dice = gds(y_prob, mask_onehot)\n",
    "\n",
    "    return loss, dice"
   ]
  },
  {
   "cell_type": "markdown",
   "id": "fa9f3c1e",
   "metadata": {},
   "source": [
    "### The training loop:"
   ]
  },
  {
   "cell_type": "code",
   "execution_count": 20,
   "id": "520099ee",
   "metadata": {},
   "outputs": [
    {
     "name": "stderr",
     "output_type": "stream",
     "text": [
      "100%|██████████| 22/22 [00:29<00:00,  1.34s/it]\n",
      "100%|██████████| 5/5 [00:03<00:00,  1.34it/s]\n",
      " 10%|█         | 1/10 [00:33<04:59, 33.25s/it]"
     ]
    },
    {
     "name": "stdout",
     "output_type": "stream",
     "text": [
      "------------------------------\n",
      "Training Loss EPOCH 1: 1.6057\n",
      "Training DICE EPOCH 1: 0.3089\n",
      "\n",
      "\n",
      "Validation Loss EPOCH 1: 1.5888\n",
      "Validation DICE EPOCH 1: 0.3127\n",
      "------------------------------\n"
     ]
    },
    {
     "name": "stderr",
     "output_type": "stream",
     "text": [
      "100%|██████████| 22/22 [00:30<00:00,  1.38s/it]\n",
      "100%|██████████| 5/5 [00:03<00:00,  1.32it/s]\n",
      " 20%|██        | 2/10 [01:07<04:30, 33.78s/it]"
     ]
    },
    {
     "name": "stdout",
     "output_type": "stream",
     "text": [
      "------------------------------\n",
      "Training Loss EPOCH 2: 1.5903\n",
      "Training DICE EPOCH 2: 0.3122\n",
      "\n",
      "\n",
      "Validation Loss EPOCH 2: 1.5783\n",
      "Validation DICE EPOCH 2: 0.3154\n",
      "------------------------------\n"
     ]
    },
    {
     "name": "stderr",
     "output_type": "stream",
     "text": [
      "100%|██████████| 22/22 [00:30<00:00,  1.37s/it]\n",
      "100%|██████████| 5/5 [00:03<00:00,  1.34it/s]\n",
      " 30%|███       | 3/10 [01:41<03:56, 33.84s/it]"
     ]
    },
    {
     "name": "stdout",
     "output_type": "stream",
     "text": [
      "------------------------------\n",
      "Training Loss EPOCH 3: 1.5762\n",
      "Training DICE EPOCH 3: 0.3158\n",
      "\n",
      "\n",
      "Validation Loss EPOCH 3: 1.5619\n",
      "Validation DICE EPOCH 3: 0.3197\n",
      "------------------------------\n"
     ]
    },
    {
     "name": "stderr",
     "output_type": "stream",
     "text": [
      "100%|██████████| 22/22 [00:30<00:00,  1.38s/it]\n",
      "100%|██████████| 5/5 [00:03<00:00,  1.37it/s]\n",
      " 40%|████      | 4/10 [02:15<03:23, 33.91s/it]"
     ]
    },
    {
     "name": "stdout",
     "output_type": "stream",
     "text": [
      "------------------------------\n",
      "Training Loss EPOCH 4: 1.5610\n",
      "Training DICE EPOCH 4: 0.3198\n",
      "\n",
      "\n",
      "Validation Loss EPOCH 4: 1.5500\n",
      "Validation DICE EPOCH 4: 0.3230\n",
      "------------------------------\n"
     ]
    },
    {
     "name": "stderr",
     "output_type": "stream",
     "text": [
      "100%|██████████| 22/22 [00:30<00:00,  1.38s/it]\n",
      "100%|██████████| 5/5 [00:03<00:00,  1.36it/s]\n",
      " 50%|█████     | 5/10 [02:49<02:49, 33.93s/it]"
     ]
    },
    {
     "name": "stdout",
     "output_type": "stream",
     "text": [
      "------------------------------\n",
      "Training Loss EPOCH 5: 1.5442\n",
      "Training DICE EPOCH 5: 0.3243\n",
      "\n",
      "\n",
      "Validation Loss EPOCH 5: 1.5319\n",
      "Validation DICE EPOCH 5: 0.3279\n",
      "------------------------------\n"
     ]
    },
    {
     "name": "stderr",
     "output_type": "stream",
     "text": [
      "100%|██████████| 22/22 [00:30<00:00,  1.38s/it]\n",
      "100%|██████████| 5/5 [00:03<00:00,  1.38it/s]\n",
      " 60%|██████    | 6/10 [03:23<02:15, 33.92s/it]"
     ]
    },
    {
     "name": "stdout",
     "output_type": "stream",
     "text": [
      "------------------------------\n",
      "Training Loss EPOCH 6: 1.5254\n",
      "Training DICE EPOCH 6: 0.3295\n",
      "\n",
      "\n",
      "Validation Loss EPOCH 6: 1.5143\n",
      "Validation DICE EPOCH 6: 0.3328\n",
      "------------------------------\n"
     ]
    },
    {
     "name": "stderr",
     "output_type": "stream",
     "text": [
      "100%|██████████| 22/22 [00:30<00:00,  1.38s/it]\n",
      "100%|██████████| 5/5 [00:03<00:00,  1.36it/s]\n",
      " 70%|███████   | 7/10 [03:57<01:41, 33.97s/it]"
     ]
    },
    {
     "name": "stdout",
     "output_type": "stream",
     "text": [
      "------------------------------\n",
      "Training Loss EPOCH 7: 1.5047\n",
      "Training DICE EPOCH 7: 0.3353\n",
      "\n",
      "\n",
      "Validation Loss EPOCH 7: 1.4871\n",
      "Validation DICE EPOCH 7: 0.3405\n",
      "------------------------------\n"
     ]
    },
    {
     "name": "stderr",
     "output_type": "stream",
     "text": [
      "100%|██████████| 22/22 [00:30<00:00,  1.38s/it]\n",
      "100%|██████████| 5/5 [00:03<00:00,  1.37it/s]\n",
      " 80%|████████  | 8/10 [04:31<01:07, 33.97s/it]"
     ]
    },
    {
     "name": "stdout",
     "output_type": "stream",
     "text": [
      "------------------------------\n",
      "Training Loss EPOCH 8: 1.4818\n",
      "Training DICE EPOCH 8: 0.3418\n",
      "\n",
      "\n",
      "Validation Loss EPOCH 8: 1.4663\n",
      "Validation DICE EPOCH 8: 0.3465\n",
      "------------------------------\n"
     ]
    },
    {
     "name": "stderr",
     "output_type": "stream",
     "text": [
      "100%|██████████| 22/22 [00:30<00:00,  1.39s/it]\n",
      "100%|██████████| 5/5 [00:03<00:00,  1.35it/s]\n",
      " 90%|█████████ | 9/10 [05:05<00:34, 34.06s/it]"
     ]
    },
    {
     "name": "stdout",
     "output_type": "stream",
     "text": [
      "------------------------------\n",
      "Training Loss EPOCH 9: 1.4568\n",
      "Training DICE EPOCH 9: 0.3490\n",
      "\n",
      "\n",
      "Validation Loss EPOCH 9: 1.4408\n",
      "Validation DICE EPOCH 9: 0.3539\n",
      "------------------------------\n"
     ]
    },
    {
     "name": "stderr",
     "output_type": "stream",
     "text": [
      "100%|██████████| 22/22 [00:30<00:00,  1.40s/it]\n",
      "100%|██████████| 5/5 [00:03<00:00,  1.33it/s]\n",
      "100%|██████████| 10/10 [05:40<00:00, 34.00s/it]"
     ]
    },
    {
     "name": "stdout",
     "output_type": "stream",
     "text": [
      "------------------------------\n",
      "Training Loss EPOCH 10: 1.4298\n",
      "Training DICE EPOCH 10: 0.3570\n",
      "\n",
      "\n",
      "Validation Loss EPOCH 10: 1.4122\n",
      "Validation DICE EPOCH 10: 0.3625\n",
      "------------------------------\n"
     ]
    },
    {
     "name": "stderr",
     "output_type": "stream",
     "text": [
      "\n"
     ]
    }
   ],
   "source": [
    "EPOCHS = 10\n",
    "\n",
    "train_losses = []\n",
    "train_dcs = []\n",
    "val_losses = []\n",
    "val_dcs = []\n",
    "\n",
    "for epoch in tqdm(range(EPOCHS)):\n",
    "    model.train()\n",
    "    train_running_loss = 0\n",
    "    train_running_dc = 0\n",
    "\n",
    "    for idx, img_mask in enumerate(tqdm(train_dataloader, position=0, leave=True)):\n",
    "        img = img_mask[0].float().to(device)\n",
    "        mask = img_mask[1].float().to(device)\n",
    "\n",
    "        y_pred = model(img)\n",
    "        optimizer.zero_grad()\n",
    "\n",
    "        loss, dice = compute_loss_and_dice(y_pred, mask, criterion, gds)\n",
    "\n",
    "        loss.backward()\n",
    "        optimizer.step()\n",
    "\n",
    "        train_running_loss += loss.item()\n",
    "        train_running_dc += dice.item()\n",
    "\n",
    "    train_loss = train_running_loss / (idx + 1)\n",
    "    train_dc = train_running_dc / (idx + 1)\n",
    "\n",
    "    train_losses.append(train_loss)\n",
    "    train_dcs.append(train_dc)\n",
    "\n",
    "    model.eval()\n",
    "    val_running_loss = 0\n",
    "    val_running_dc = 0\n",
    "\n",
    "    with torch.no_grad():\n",
    "        for idx, img_mask in enumerate(tqdm(val_dataloader, position=0, leave=True)):\n",
    "            img = img_mask[0].float().to(device)\n",
    "            mask = img_mask[1].float().to(device)\n",
    "\n",
    "            y_pred = model(img)\n",
    "            loss, dice = compute_loss_and_dice(y_pred, mask, criterion, gds)\n",
    "\n",
    "            val_running_loss += loss.item()\n",
    "            val_running_dc += dice.item()\n",
    "\n",
    "        val_loss = val_running_loss / (idx + 1)\n",
    "        val_dc = val_running_dc / (idx + 1)\n",
    "\n",
    "    val_losses.append(val_loss)\n",
    "    val_dcs.append(val_dc)\n",
    "\n",
    "    print(\"-\" * 30)\n",
    "    print(f\"Training Loss EPOCH {epoch + 1}: {train_loss:.4f}\")\n",
    "    print(f\"Training DICE EPOCH {epoch + 1}: {train_dc:.4f}\")\n",
    "    print(\"\\n\")\n",
    "    print(f\"Validation Loss EPOCH {epoch + 1}: {val_loss:.4f}\")\n",
    "    print(f\"Validation DICE EPOCH {epoch + 1}: {val_dc:.4f}\")\n",
    "    print(\"-\" * 30)\n"
   ]
  },
  {
   "cell_type": "code",
   "execution_count": 21,
   "id": "89c3d173",
   "metadata": {},
   "outputs": [
    {
     "data": {
      "image/png": "[encoded data removed]",
      "text/plain": [
       "<Figure size 1200x500 with 2 Axes>"
      ]
     },
     "metadata": {},
     "output_type": "display_data"
    }
   ],
   "source": [
    "epochs_list = list(range(1, EPOCHS + 1))\n",
    "\n",
    "plt.figure(figsize=(12, 5))\n",
    "plt.subplot(1, 2, 1)\n",
    "plt.plot(epochs_list, train_losses, label='Training Loss')\n",
    "plt.plot(epochs_list, val_losses, label='Validation Loss')\n",
    "plt.xticks(ticks=list(range(1, EPOCHS + 1, 1)))\n",
    "plt.title('Loss over epochs')\n",
    "plt.xlabel('Epochs')\n",
    "plt.ylabel('Loss')\n",
    "plt.grid()\n",
    "plt.tight_layout()\n",
    "\n",
    "plt.legend()\n",
    "\n",
    "\n",
    "plt.subplot(1, 2, 2)\n",
    "plt.plot(epochs_list, train_dcs, label='Training DICE')\n",
    "plt.plot(epochs_list, val_dcs, label='Validation DICE')\n",
    "plt.xticks(ticks=list(range(1, EPOCHS + 1, 1)))\n",
    "plt.title('DICE Coefficient over epochs')\n",
    "plt.xlabel('Epochs')\n",
    "plt.ylabel('DICE')\n",
    "plt.grid()\n",
    "plt.legend()\n",
    "\n",
    "plt.tight_layout()\n",
    "plt.show()"
   ]
  },
  {
   "cell_type": "markdown",
   "id": "adb402e4",
   "metadata": {},
   "source": [
    "## Model Evaluation"
   ]
  },
  {
   "cell_type": "code",
   "execution_count": null,
   "id": "23cf6116",
   "metadata": {},
   "outputs": [
    {
     "data": {
      "text/plain": [
       "1048576"
      ]
     },
     "execution_count": 22,
     "metadata": {},
     "output_type": "execute_result"
    }
   ],
   "source": []
  },
  {
   "cell_type": "markdown",
   "id": "6212fab2",
   "metadata": {},
   "source": [
    "## Conversion of Output Mask to RGB .png File"
   ]
  },
  {
   "cell_type": "code",
   "execution_count": null,
   "id": "8a510e33",
   "metadata": {},
   "outputs": [],
   "source": []
  }
 ],
 "metadata": {
  "kernelspec": {
   "display_name": "orbital_response",
   "language": "python",
   "name": "python3"
  },
  "language_info": {
   "codemirror_mode": {
    "name": "ipython",
    "version": 3
   },
   "file_extension": ".py",
   "mimetype": "text/x-python",
   "name": "python",
   "nbconvert_exporter": "python",
   "pygments_lexer": "ipython3",
   "version": "3.10.6"
  }
 },
 "nbformat": 4,
 "nbformat_minor": 5
}
