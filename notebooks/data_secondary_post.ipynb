{
 "cells": [
  {
   "cell_type": "code",
   "execution_count": null,
   "id": "f9a89078",
   "metadata": {},
   "outputs": [],
   "source": [
    "import os\n",
    "import math\n",
    "import requests\n",
    "from pathlib import Path\n",
    "from PIL import Image\n",
    "from io import BytesIO"
   ]
  },
  {
   "cell_type": "code",
   "execution_count": null,
   "id": "0024adb1",
   "metadata": {},
   "outputs": [],
   "source": [
    "zoom = 18\n",
    "resolution = \"512x512\"\n",
    "scale = 2\n",
    "grid_radius = 3  # For a 7x7 grid\n",
    "tile_size_m = 300"
   ]
  },
  {
   "cell_type": "code",
   "execution_count": null,
   "id": "bce0ab3e",
   "metadata": {},
   "outputs": [],
   "source": [
    "locations = {\n",
    "    \"gaza_city_shejaiya\": (31.49944, 34.458220),\n",
    "    \"gaza_city_jabalya\": (31.530831, 34.496223),\n",
    "    \"khan_yunis\": (31.353261, 34.292597),\n",
    "    \"nuseirat_camp\": (31.459875, 34.391665),\n",
    "    \"beit_hanoun\": (31.536525, 34.540841),\n",
    "    \"rafah\": (31.286419, 34.254626),\n",
    "}"
   ]
  },
  {
   "cell_type": "code",
   "execution_count": 52,
   "id": "551ed15e",
   "metadata": {},
   "outputs": [],
   "source": [
    "output_dir = Path(\"../data_secondary\")\n",
    "output_dir.mkdir(parents=True, exist_ok=True)"
   ]
  },
  {
   "cell_type": "code",
   "execution_count": null,
   "id": "cc8af326",
   "metadata": {},
   "outputs": [],
   "source": [
    "def google_api(lat, lon, tile_name, zoom=zoom, size=resolution, scale=scale):\n",
    "    api_key = os.getenv(\"GOOGLE_API_KEY\")\n",
    "    assert api_key, \"Google API key not found in environment variables.\"\n",
    "\n",
    "    url = (\n",
    "        f\"https://maps.googleapis.com/maps/api/staticmap?\"\n",
    "        f\"center={lat},{lon}&zoom={zoom}&size={size}&scale={scale}&maptype=satellite&key={api_key}\"\n",
    "    )\n",
    "\n",
    "    output_dir = Path(\"../data_secondary\")\n",
    "    output_dir.mkdir(parents=True, exist_ok=True)\n",
    "\n",
    "    response = requests.get(url)\n",
    "    if response.status_code == 200:\n",
    "        img = Image.open(BytesIO(response.content))\n",
    "        img.save(output_dir / tile_name)\n",
    "        print(f\"Saved: {output_dir / tile_name}\")\n",
    "    else:\n",
    "        print(f\"Failed at {lat}, {lon} | Status code: {response.status_code}\")"
   ]
  },
  {
   "cell_type": "code",
   "execution_count": null,
   "id": "9048f942",
   "metadata": {},
   "outputs": [],
   "source": [
    "def meters_per_pixel(lat, zoom, scale=2):\n",
    "    return (156543.03392 / scale) * math.cos(math.radians(lat)) / (2 ** zoom)"
   ]
  },
  {
   "cell_type": "code",
   "execution_count": null,
   "id": "3bf3fb4f",
   "metadata": {},
   "outputs": [
    {
     "name": "stdout",
     "output_type": "stream",
     "text": [
      "Failed to download tile at 31.496745066475025, 34.45505932625183 | Status code: 400\n",
      "Failed to download tile at 31.496745066475025, 34.45822 | Status code: 400\n",
      "Failed to download tile at 31.496745066475025, 34.46138067374817 | Status code: 400\n",
      "Failed to download tile at 31.49944, 34.45505932625183 | Status code: 400\n",
      "Failed to download tile at 31.49944, 34.45822 | Status code: 400\n",
      "Failed to download tile at 31.49944, 34.46138067374817 | Status code: 400\n",
      "Failed to download tile at 31.502134933524975, 34.45505932625183 | Status code: 400\n",
      "Failed to download tile at 31.502134933524975, 34.45822 | Status code: 400\n",
      "Failed to download tile at 31.502134933524975, 34.46138067374817 | Status code: 400\n",
      "Failed to download tile at 31.528136066475025, 34.49306126428255 | Status code: 400\n",
      "Failed to download tile at 31.528136066475025, 34.496223 | Status code: 400\n",
      "Failed to download tile at 31.528136066475025, 34.49938473571745 | Status code: 400\n",
      "Failed to download tile at 31.530831, 34.49306126428255 | Status code: 400\n",
      "Failed to download tile at 31.530831, 34.496223 | Status code: 400\n",
      "Failed to download tile at 31.530831, 34.49938473571745 | Status code: 400\n",
      "Failed to download tile at 31.533525933524974, 34.49306126428255 | Status code: 400\n",
      "Failed to download tile at 31.533525933524974, 34.496223 | Status code: 400\n",
      "Failed to download tile at 31.533525933524974, 34.49938473571745 | Status code: 400\n",
      "Failed to download tile at 31.350566066475025, 34.28944124969897 | Status code: 400\n",
      "Failed to download tile at 31.350566066475025, 34.292597 | Status code: 400\n",
      "Failed to download tile at 31.350566066475025, 34.295752750301034 | Status code: 400\n",
      "Failed to download tile at 31.353261, 34.28944124969897 | Status code: 400\n",
      "Failed to download tile at 31.353261, 34.292597 | Status code: 400\n",
      "Failed to download tile at 31.353261, 34.295752750301034 | Status code: 400\n",
      "Failed to download tile at 31.355955933524974, 34.28944124969897 | Status code: 400\n",
      "Failed to download tile at 31.355955933524974, 34.292597 | Status code: 400\n",
      "Failed to download tile at 31.355955933524974, 34.295752750301034 | Status code: 400\n",
      "Failed to download tile at 31.457180066475026, 34.38850566238443 | Status code: 400\n",
      "Failed to download tile at 31.457180066475026, 34.391665 | Status code: 400\n",
      "Failed to download tile at 31.457180066475026, 34.394824337615574 | Status code: 400\n",
      "Failed to download tile at 31.459875, 34.38850566238443 | Status code: 400\n",
      "Failed to download tile at 31.459875, 34.391665 | Status code: 400\n",
      "Failed to download tile at 31.459875, 34.394824337615574 | Status code: 400\n",
      "Failed to download tile at 31.462569933524975, 34.38850566238443 | Status code: 400\n",
      "Failed to download tile at 31.462569933524975, 34.391665 | Status code: 400\n",
      "Failed to download tile at 31.462569933524975, 34.394824337615574 | Status code: 400\n",
      "Failed to download tile at 31.372703066475026, 34.330271506409275 | Status code: 400\n",
      "Failed to download tile at 31.372703066475026, 34.333428 | Status code: 400\n",
      "Failed to download tile at 31.372703066475026, 34.33658449359072 | Status code: 400\n",
      "Failed to download tile at 31.375398, 34.330271506409275 | Status code: 400\n",
      "Failed to download tile at 31.375398, 34.333428 | Status code: 400\n",
      "Failed to download tile at 31.375398, 34.33658449359072 | Status code: 400\n",
      "Failed to download tile at 31.378092933524975, 34.330271506409275 | Status code: 400\n",
      "Failed to download tile at 31.378092933524975, 34.333428 | Status code: 400\n",
      "Failed to download tile at 31.378092933524975, 34.33658449359072 | Status code: 400\n",
      "Failed to download tile at 31.533830066475026, 34.53767907147423 | Status code: 400\n",
      "Failed to download tile at 31.533830066475026, 34.540841 | Status code: 400\n",
      "Failed to download tile at 31.533830066475026, 34.54400292852577 | Status code: 400\n",
      "Failed to download tile at 31.536525, 34.53767907147423 | Status code: 400\n",
      "Failed to download tile at 31.536525, 34.540841 | Status code: 400\n",
      "Failed to download tile at 31.536525, 34.54400292852577 | Status code: 400\n",
      "Failed to download tile at 31.539219933524976, 34.53767907147423 | Status code: 400\n",
      "Failed to download tile at 31.539219933524976, 34.540841 | Status code: 400\n",
      "Failed to download tile at 31.539219933524976, 34.54400292852577 | Status code: 400\n",
      "Failed to download tile at 34.25193106647503, 31.28315851716215 | Status code: 400\n",
      "Failed to download tile at 34.25193106647503, 31.286419 | Status code: 400\n",
      "Failed to download tile at 34.25193106647503, 31.289679482837848 | Status code: 400\n",
      "Failed to download tile at 34.254626, 31.28315851716215 | Status code: 400\n",
      "Failed to download tile at 34.254626, 31.286419 | Status code: 400\n",
      "Failed to download tile at 34.254626, 31.289679482837848 | Status code: 400\n",
      "Failed to download tile at 34.25732093352497, 31.28315851716215 | Status code: 400\n",
      "Failed to download tile at 34.25732093352497, 31.286419 | Status code: 400\n",
      "Failed to download tile at 34.25732093352497, 31.289679482837848 | Status code: 400\n"
     ]
    }
   ],
   "source": [
    "for city, (center_lat, center_lon) in locations.items():\n",
    "    mpp = meters_per_pixel(center_lat, zoom)\n",
    "\n",
    "    deg_per_tile_lat = tile_size_m / 111320\n",
    "    deg_per_tile_lon = tile_size_m / (111320 * math.cos(math.radians(center_lat)))\n",
    "\n",
    "    for i in range(-grid_radius, grid_radius + 1):\n",
    "        for j in range(-grid_radius, grid_radius + 1):\n",
    "            tile_lat = center_lat + i * deg_per_tile_lat\n",
    "            tile_lon = center_lon + j * deg_per_tile_lon\n",
    "            tile_name = f\"{city}_{i+grid_radius}_{j+grid_radius}.png\"\n",
    "            google_api(tile_lat, tile_lon, tile_name)"
   ]
  }
 ],
 "metadata": {
  "kernelspec": {
   "display_name": "orbital_response",
   "language": "python",
   "name": "python3"
  },
  "language_info": {
   "codemirror_mode": {
    "name": "ipython",
    "version": 3
   },
   "file_extension": ".py",
   "mimetype": "text/x-python",
   "name": "python",
   "nbconvert_exporter": "python",
   "pygments_lexer": "ipython3",
   "version": "3.10.6"
  }
 },
 "nbformat": 4,
 "nbformat_minor": 5
}
